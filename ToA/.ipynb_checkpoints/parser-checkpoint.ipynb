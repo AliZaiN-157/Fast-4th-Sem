{
 "cells": [
  {
   "cell_type": "code",
   "execution_count": null,
   "metadata": {},
   "outputs": [
    {
     "name": "stdout",
     "output_type": "stream",
     "text": [
      "Enter the expression: (a+a)*a\n"
     ]
    }
   ],
   "source": [
    "from nltk import CFG\n",
    "from nltk.parse import ChartParser\n",
    "\n",
    "grammar = CFG.fromstring(\"\"\"\n",
    "    E -> E '+' T | T\n",
    "    T -> T '*' F | F\n",
    "    F -> '(' E ')' | 'a'\n",
    "\"\"\")\n",
    "\n",
    "string = input(\"Enter the expression: \")\n",
    "sent = list(string)\n",
    "parser = ChartParser(grammar)\n",
    "trees = list(parser.parse(sent))\n",
    "try :\n",
    "    trees[0].draw()\n",
    "except IndexError:\n",
    "    print(\"Invalid Expression\")"
   ]
  },
  {
   "cell_type": "code",
   "execution_count": null,
   "metadata": {},
   "outputs": [],
   "source": []
  }
 ],
 "metadata": {
  "kernelspec": {
   "display_name": "Python 3 (ipykernel)",
   "language": "python",
   "name": "python3"
  },
  "language_info": {
   "codemirror_mode": {
    "name": "ipython",
    "version": 3
   },
   "file_extension": ".py",
   "mimetype": "text/x-python",
   "name": "python",
   "nbconvert_exporter": "python",
   "pygments_lexer": "ipython3",
   "version": "3.10.5"
  }
 },
 "nbformat": 4,
 "nbformat_minor": 2
}
