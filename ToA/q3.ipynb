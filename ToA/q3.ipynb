{
 "cells": [
  {
   "cell_type": "code",
   "execution_count": 1,
   "metadata": {},
   "outputs": [
    {
     "ename": "ImportError",
     "evalue": "cannot import name 'DTMConfiguration' from 'automata.tm.dtm' (c:\\Users\\Ali Zain\\AppData\\Local\\Programs\\Python\\Python310\\lib\\site-packages\\automata\\tm\\dtm.py)",
     "output_type": "error",
     "traceback": [
      "\u001b[1;31m---------------------------------------------------------------------------\u001b[0m",
      "\u001b[1;31mImportError\u001b[0m                               Traceback (most recent call last)",
      "\u001b[1;32md:\\University\\Semester4\\ToA\\q3.ipynb Cell 1\u001b[0m in \u001b[0;36m<cell line: 4>\u001b[1;34m()\u001b[0m\n\u001b[0;32m      <a href='vscode-notebook-cell:/d%3A/University/Semester4/ToA/q3.ipynb#W0sZmlsZQ%3D%3D?line=0'>1</a>\u001b[0m \u001b[39m# Draw a turing machine that accepts the language {3x | n >= 0}\u001b[39;00m\n\u001b[0;32m      <a href='vscode-notebook-cell:/d%3A/University/Semester4/ToA/q3.ipynb#W0sZmlsZQ%3D%3D?line=2'>3</a>\u001b[0m \u001b[39mfrom\u001b[39;00m \u001b[39mautomata\u001b[39;00m\u001b[39m.\u001b[39;00m\u001b[39mtm\u001b[39;00m\u001b[39m.\u001b[39;00m\u001b[39mdtm\u001b[39;00m \u001b[39mimport\u001b[39;00m DTM\n\u001b[1;32m----> <a href='vscode-notebook-cell:/d%3A/University/Semester4/ToA/q3.ipynb#W0sZmlsZQ%3D%3D?line=3'>4</a>\u001b[0m \u001b[39mfrom\u001b[39;00m \u001b[39mautomata\u001b[39;00m\u001b[39m.\u001b[39;00m\u001b[39mtm\u001b[39;00m\u001b[39m.\u001b[39;00m\u001b[39mdtm\u001b[39;00m \u001b[39mimport\u001b[39;00m DTMConfiguration\n\u001b[0;32m      <a href='vscode-notebook-cell:/d%3A/University/Semester4/ToA/q3.ipynb#W0sZmlsZQ%3D%3D?line=4'>5</a>\u001b[0m \u001b[39mfrom\u001b[39;00m \u001b[39mautomata\u001b[39;00m\u001b[39m.\u001b[39;00m\u001b[39mtm\u001b[39;00m\u001b[39m.\u001b[39;00m\u001b[39mdtm\u001b[39;00m \u001b[39mimport\u001b[39;00m DTMRulebook\n\u001b[0;32m      <a href='vscode-notebook-cell:/d%3A/University/Semester4/ToA/q3.ipynb#W0sZmlsZQ%3D%3D?line=5'>6</a>\u001b[0m \u001b[39mfrom\u001b[39;00m \u001b[39mautomata\u001b[39;00m\u001b[39m.\u001b[39;00m\u001b[39mtm\u001b[39;00m\u001b[39m.\u001b[39;00m\u001b[39mdtm\u001b[39;00m \u001b[39mimport\u001b[39;00m DTMRule\n",
      "\u001b[1;31mImportError\u001b[0m: cannot import name 'DTMConfiguration' from 'automata.tm.dtm' (c:\\Users\\Ali Zain\\AppData\\Local\\Programs\\Python\\Python310\\lib\\site-packages\\automata\\tm\\dtm.py)"
     ]
    }
   ],
   "source": [
    "# Draw a turing machine that accepts the language {a^3nb^3n | n >= 0}"
   ]
  },
  {
   "cell_type": "code",
   "execution_count": null,
   "metadata": {},
   "outputs": [],
   "source": []
  }
 ],
 "metadata": {
  "kernelspec": {
   "display_name": "Python 3",
   "language": "python",
   "name": "python3"
  },
  "language_info": {
   "codemirror_mode": {
    "name": "ipython",
    "version": 3
   },
   "file_extension": ".py",
   "mimetype": "text/x-python",
   "name": "python",
   "nbconvert_exporter": "python",
   "pygments_lexer": "ipython3",
   "version": "3.10.5"
  },
  "orig_nbformat": 4
 },
 "nbformat": 4,
 "nbformat_minor": 2
}
