{
 "cells": [
  {
   "attachments": {},
   "cell_type": "markdown",
   "metadata": {},
   "source": [
    "# GRADIENT DESCENT METHOD"
   ]
  },
  {
   "cell_type": "code",
   "execution_count": 1,
   "metadata": {},
   "outputs": [],
   "source": [
    "# 1- Take 10 points of a data x and y (Generate it from numpy library of python using following command)\n",
    "\n",
    "import numpy as np\n",
    "\n",
    "x = np.random.rand(10)\n",
    "y = 2*x+np.random.rand(10)"
   ]
  },
  {
   "cell_type": "code",
   "execution_count": 2,
   "metadata": {},
   "outputs": [
    {
     "name": "stdout",
     "output_type": "stream",
     "text": [
      "12.107808813681887\n"
     ]
    }
   ],
   "source": [
    "# 2- Write the Intercept term h(x) = hθ(x) = ∑j=1j=0 θj*xj, where x0 = 1\n",
    "\n",
    "h = 0\n",
    "for i in range(0,10):\n",
    "    h = h + x[i]*y[i]\n",
    "print(h)"
   ]
  },
  {
   "cell_type": "code",
   "execution_count": 17,
   "metadata": {},
   "outputs": [
    {
     "name": "stdout",
     "output_type": "stream",
     "text": [
      "[3351.74921475 3388.06172883 3369.63793071 3360.16767757 3342.78567073\n",
      " 3343.87115206 3371.62050557 3367.22049297 3388.9010749  3371.94823178]\n"
     ]
    }
   ],
   "source": [
    "# 3- Write the cost function J(θ) = 1/2m ∑i=1m (hθ(x(i)) - y(i))^2\n",
    "\n",
    "J = 0\n",
    "for i in range(0,10):\n",
    "    J = J + (h - y[i])**2\n",
    "J = J/20\n",
    "print(J)\n",
    "\n",
    "# What is convex function and why we use it in gradient descent?\n",
    "# A convex function is a function whose second derivative is always positive.\n",
    "# We use it in gradient descent because it helps us to find the global minimum of the cost function.\n"
   ]
  },
  {
   "cell_type": "code",
   "execution_count": 14,
   "metadata": {},
   "outputs": [
    {
     "name": "stdout",
     "output_type": "stream",
     "text": [
      "1.0510006074253173 1.1648400410302415\n"
     ]
    },
    {
     "data": {
      "image/png": "[encoded data removed]",
      "text/plain": [
       "<Figure size 432x288 with 1 Axes>"
      ]
     },
     "metadata": {
      "needs_background": "light"
     },
     "output_type": "display_data"
    }
   ],
   "source": [
    "# 4- Write the gradient descent algorithm to minimize the cost function J(θ) = 1/2m ∑i=1m (hθ(x(i)) - y(i))^2\n",
    "\n",
    "def gradient_descent(x,y):\n",
    "    m = len(x)\n",
    "    theta0 = theta1 = 0\n",
    "    iterations = 1000\n",
    "    learning_rate = 0.01\n",
    "    for i in range(iterations):\n",
    "        h = theta0 + theta1*x\n",
    "        theta0 = theta0 - (1/m)*learning_rate*(np.sum(h-y))\n",
    "        theta1 = theta1 - (1/m)*learning_rate*(np.sum((h-y)*x))\n",
    "    return theta0, theta1\n",
    "\n",
    "theta0, theta1 = gradient_descent(x,y)\n",
    "print(theta0, theta1)\n",
    "\n",
    "# 5- Plot the data points and the best fit line.\n",
    "\n",
    "import matplotlib.pyplot as plt\n",
    "\n",
    "plt.scatter(x,y)\n",
    "plt.plot(x,theta0+theta1*x)\n",
    "plt.show()\n",
    "\n",
    "# Plot of J(θ0, θ1)on python with a point specifying value of J at initially taken θ0 and θ1.\n"
   ]
  },
  {
   "cell_type": "code",
   "execution_count": null,
   "metadata": {},
   "outputs": [],
   "source": []
  },
  {
   "cell_type": "code",
   "execution_count": null,
   "metadata": {},
   "outputs": [],
   "source": [
    "\n",
    "\n",
    "\n"
   ]
  },
  {
   "cell_type": "code",
   "execution_count": null,
   "metadata": {},
   "outputs": [],
   "source": [
    "\n",
    "\n"
   ]
  }
 ],
 "metadata": {
  "kernelspec": {
   "display_name": "Python 3",
   "language": "python",
   "name": "python3"
  },
  "language_info": {
   "codemirror_mode": {
    "name": "ipython",
    "version": 3
   },
   "file_extension": ".py",
   "mimetype": "text/x-python",
   "name": "python",
   "nbconvert_exporter": "python",
   "pygments_lexer": "ipython3",
   "version": "3.10.5"
  },
  "orig_nbformat": 4
 },
 "nbformat": 4,
 "nbformat_minor": 2
}
