{
  "cells": [
    {
      "cell_type": "markdown",
      "metadata": {
        "id": "DJ_n7DUfNe1_"
      },
      "source": [
        "## **Objectives of Session3a_Derivatives_and_Integration:**\n",
        "\n",
        "1-To understand how to take derivatives and integrals by using library functions of python.<br>\n",
        "2-To implement Numerical Differenciation methods to find values of f'(x) for a given table of x and f(x).<br>\n",
        "3-To implement Numerical Integration methods to find values of definite integrals and their error bound by a specific method. "
      ]
    },
    {
      "cell_type": "markdown",
      "metadata": {
        "id": "Udo660Kli4GV"
      },
      "source": [
        "## **How to take derivative in python:**"
      ]
    },
    {
      "cell_type": "code",
      "execution_count": 1,
      "metadata": {
        "id": "9Cf90Q7ihY6r"
      },
      "outputs": [
        {
          "name": "stdout",
          "output_type": "stream",
          "text": [
            "4*x\n",
            "4.0\n"
          ]
        }
      ],
      "source": [
        "from sympy import* #Call Library of sympy\n",
        "x = symbols('x')   #Make x a symbol  \n",
        "f = 2*x**2+5       #Function to take derivative\n",
        "\n",
        "df = diff(f, x,1)    #diff(f,x,1) is used to take first derivative of f w.r.t x\n",
        "#df = diff(f, x,n)    #diff(f,x,n) is used to take nth derivative of f w.r.t x\n",
        "print(df)\n",
        "print(float(df.subs(x,1))) #df.subs(x,1) is used to substitute value of x=1 in above taken derivative"
      ]
    },
    {
      "cell_type": "code",
      "execution_count": 2,
      "metadata": {
        "id": "R-gXmc_hNzRQ"
      },
      "outputs": [
        {
          "name": "stdout",
          "output_type": "stream",
          "text": [
            "cos(x) - 1\n"
          ]
        }
      ],
      "source": [
        "# another procedure for finding  derivative\n",
        "y=sin(x)-x\n",
        "derivative_y=y.diff(x) #differentiate y w.r.t x\n",
        "print(derivative_y)"
      ]
    },
    {
      "cell_type": "markdown",
      "metadata": {
        "id": "oxasjMMgjzFs"
      },
      "source": [
        "**How to convert a sympy symbolic expression into numpy function to evaluate it on a point or array**."
      ]
    },
    {
      "cell_type": "code",
      "execution_count": 3,
      "metadata": {
        "id": "zdcizRVAjv1m"
      },
      "outputs": [
        {
          "name": "stdout",
          "output_type": "stream",
          "text": [
            "7\n",
            "4\n"
          ]
        }
      ],
      "source": [
        "f1=lambdify(x,f) #Now f1 is numpy function\n",
        "print(f1(1)) #f1 at 1, you can also evaluate f1 at an array.\n",
        "df1=lambdify(x,df)\n",
        "print(df1(1)) "
      ]
    },
    {
      "cell_type": "markdown",
      "metadata": {
        "id": "QmakryHVOsXW"
      },
      "source": [
        "**Task1**\n",
        "```\n",
        "a)Use above two procedures to find the second derivative of f(x)=x**2 exp(-x).\n",
        "b)Convert symbolic expression in part (a) into numpy function.\n",
        "c)Evaluate the numpy function (obtained in part b)at a single value and at an array.\n",
        "\n",
        "\n",
        "\n",
        "```\n",
        "\n",
        "\n"
      ]
    },
    {
      "cell_type": "code",
      "execution_count": 4,
      "metadata": {},
      "outputs": [
        {
          "name": "stdout",
          "output_type": "stream",
          "text": [
            "(x**2 - 4*x + 2)*exp(-x)\n",
            "-0.36787944117144233\n"
          ]
        }
      ],
      "source": [
        "from sympy import * \n",
        "x = symbols('x')   \n",
        "f = x**2*exp(-x)\n",
        "\n",
        "df = diff(f, x,1)\n",
        "ddf = diff(f, x,2)\n",
        "print(ddf)\n",
        "print(float(ddf.subs(x,1)))"
      ]
    },
    {
      "cell_type": "code",
      "execution_count": 5,
      "metadata": {},
      "outputs": [
        {
          "name": "stdout",
          "output_type": "stream",
          "text": [
            "x**2*exp(-x) - 4*x*exp(-x) + 2*exp(-x)\n"
          ]
        }
      ],
      "source": [
        "# find the derivative using 2nd procedure\n",
        "derivative_f=f.diff(x)\n",
        "derivative2_f=derivative_f.diff(x)\n",
        "print(derivative2_f)\n"
      ]
    },
    {
      "cell_type": "code",
      "execution_count": 6,
      "metadata": {},
      "outputs": [
        {
          "name": "stdout",
          "output_type": "stream",
          "text": [
            "0.36787944117144233\n",
            "-0.36787944117144233\n"
          ]
        }
      ],
      "source": [
        "f1=lambdify(x,f)\n",
        "print(f1(1))\n",
        "\n",
        "ddf1=lambdify(x,ddf)\n",
        "print(ddf1(1))"
      ]
    },
    {
      "cell_type": "markdown",
      "metadata": {
        "id": "nla6-ZUPv497"
      },
      "source": [
        "## **Coding of some Numerical differentiation formulae**"
      ]
    },
    {
      "cell_type": "markdown",
      "metadata": {
        "id": "fUgK1xJhvtGq"
      },
      "source": [
        "### **Code of forward difference formula**\n",
        "\n",
        "### Forward Differnce \n",
        "• $f'(x_0) =\\dfrac{f(x_0+h)-f(x_0)}{h}$\n",
        "\n",
        "### Backward Differnce \n",
        "• $f'(x_0) =\\dfrac{f(x_0)-f(x_0-h)}{h}$\n",
        "\n"
      ]
    },
    {
      "cell_type": "code",
      "execution_count": 7,
      "metadata": {
        "id": "0hrO5vGDPdH2"
      },
      "outputs": [],
      "source": [
        "# code of forward difference formula.\n",
        "\n",
        "import numpy as np\n",
        "from tabulate import tabulate\n",
        "\n",
        "\n",
        "def forward_diff(x, y):\n",
        "  \n",
        "    # Compute the step size h\n",
        "    h = x[1] - x[0]\n",
        "    data=[]\n",
        "    \n",
        "    # Compute the forward difference approximation\n",
        "    fdf = np.zeros_like(y)\n",
        "    fdf[-1] = (y[-1] - y[-2]) / h  # use backward difference at the end point\n",
        "    for i in range(len(y) - 1):\n",
        "        fdf[i] = (y[i+1] - y[i]) / h\n",
        "        data.append([x[i],y[i],fdf[i]])\n",
        "    data.append([x[-1],y[-1],fdf[-1]])\n",
        "    \n",
        "    print(tabulate(data,headers=['x','f(x)','df(x)/dx'],tablefmt=\"github\"))\n",
        "    \n",
        "    return"
      ]
    },
    {
      "cell_type": "code",
      "execution_count": 8,
      "metadata": {
        "id": "ZsIe3CBW4dND"
      },
      "outputs": [
        {
          "name": "stdout",
          "output_type": "stream",
          "text": [
            "|   x |   f(x) |   df(x)/dx |\n",
            "|-----|--------|------------|\n",
            "| 0.2 |   3    |        4.5 |\n",
            "| 0.4 |   3.9  |        0.4 |\n",
            "| 0.6 |   3.98 |        1.1 |\n",
            "| 0.8 |   4.2  |        1.1 |\n"
          ]
        }
      ],
      "source": [
        "# example to run above code\n",
        "x=[0.2,0.4,0.6,0.8]\n",
        "y=[3,3.9,3.98,4.2]\n",
        "forward_diff(x, y)"
      ]
    },
    {
      "cell_type": "markdown",
      "metadata": {
        "id": "awmdLwQwhjwq"
      },
      "source": [
        "**Task 2: Write a code for Backward difference approximation (apply forward difference approximation on first point)**"
      ]
    },
    {
      "cell_type": "code",
      "execution_count": 9,
      "metadata": {},
      "outputs": [
        {
          "name": "stdout",
          "output_type": "stream",
          "text": [
            "|   x |   f(x) |   df(x)/dx |\n",
            "|-----|--------|------------|\n",
            "| 0.4 |   3.9  |        4.5 |\n",
            "| 0.6 |   3.98 |        0.4 |\n",
            "| 0.8 |   4.2  |        1.1 |\n",
            "| 0.2 |   3    |        4.5 |\n"
          ]
        }
      ],
      "source": [
        "import numpy as np\n",
        "from tabulate import tabulate\n",
        "\n",
        "\n",
        "def backward_diff(x, y):\n",
        "      \n",
        "     # Compute the step size h\n",
        "     h = x[1] - x[0]\n",
        "     data=[]\n",
        "     \n",
        "     # Compute the forward difference approximation\n",
        "     fdf = np.zeros_like(y)\n",
        "     fdf[0] = (y[1] - y[0]) / h  # use backward difference at the end point\n",
        "     for i in range(1,len(y)):\n",
        "          fdf[i] = (y[i] - y[i-1]) / h\n",
        "          data.append([x[i],y[i],fdf[i]])\n",
        "     data.append([x[0],y[0],fdf[0]])\n",
        "     \n",
        "     print(tabulate(data,headers=['x','f(x)','df(x)/dx'],tablefmt=\"github\"))\n",
        "     \n",
        "     return \n",
        "\n",
        "# example to run above code\n",
        "x=[0.2,0.4,0.6,0.8]\n",
        "y=[3,3.9,3.98,4.2]\n",
        "backward_diff(x, y)\n",
        "\n"
      ]
    },
    {
      "cell_type": "code",
      "execution_count": null,
      "metadata": {},
      "outputs": [],
      "source": []
    },
    {
      "cell_type": "markdown",
      "metadata": {
        "id": "yYBxb8ZC2r_I"
      },
      "source": [
        "### **Code of three point endpoint and three point midpoint formula**\n",
        "### Three-Point Endpoint Formula\n",
        "• $f'(x_0) =\\dfrac{−3f(x_0) + 4f(x_0 + h) - f (x_0 + 2h)}{2h}$\n",
        "### Three-Point Midpoint Formula\n",
        "• $f'(x_0) =\\dfrac{f(x_0+h)-f(x_0-h)}{2h}$"
      ]
    },
    {
      "cell_type": "code",
      "execution_count": 10,
      "metadata": {
        "id": "zJf2FB865b8C"
      },
      "outputs": [],
      "source": [
        "# code for three point endpoint and three point midpoint formulae for finding f'(x) for an array of x and f(x).\n",
        "import numpy as np\n",
        "\n",
        "def three_point(x, y):\n",
        "  \n",
        "    # Compute the step size h\n",
        "    data=[]\n",
        "    h = x[1] - x[0]\n",
        "    \n",
        "    # Compute the forward difference approximation\n",
        "    tp = np.zeros_like(y)\n",
        "    tp[0]=(-3*y[0]+4*y[1]-y[2])/(2*h) #three point endpoint (left end) formula\n",
        "    tp[-1]=(3*y[-1]-4*y[-2]+y[-3])/(2*h) #three point endpoint (right end) formula\n",
        "\n",
        "    data.append([x[0],y[0],tp[0]])\n",
        "    for i in range(1,len(y)-1):\n",
        "        tp[i] = (y[i+1] - y[i-1]) / (2*h)\n",
        "        data.append([x[i],y[i],tp[i]])\n",
        "    data.append([x[-1],y[-1],tp[-1]])\n",
        "\n",
        "    print(tabulate(data,headers=['x','f(x)','df(x)/dx'],tablefmt=\"github\"))\n",
        "    \n",
        "    \n",
        "    return"
      ]
    },
    {
      "cell_type": "code",
      "execution_count": 11,
      "metadata": {
        "id": "ZUjr9Q1d7n9j"
      },
      "outputs": [
        {
          "name": "stdout",
          "output_type": "stream",
          "text": [
            "|   x |   f(x) |   df(x)/dx |\n",
            "|-----|--------|------------|\n",
            "| 0.2 |   3    |       6.55 |\n",
            "| 0.4 |   3.9  |       2.45 |\n",
            "| 0.6 |   3.98 |       0.75 |\n",
            "| 0.8 |   4.2  |       1.45 |\n"
          ]
        }
      ],
      "source": [
        "# example to run above code\n",
        "x=[0.2,0.4,0.6,0.8]\n",
        "y=[3,3.9,3.98,4.2]\n",
        "three_point(x, y)\n"
      ]
    },
    {
      "cell_type": "markdown",
      "metadata": {
        "id": "TTIACjqA9Imu"
      },
      "source": [
        "**Task 3: \n",
        "Make a code for five point endpoint and midpoint formulae where possible in given table.**:\n"
      ]
    },
    {
      "cell_type": "code",
      "execution_count": 12,
      "metadata": {},
      "outputs": [
        {
          "name": "stdout",
          "output_type": "stream",
          "text": [
            "|   x |   f(x) |   df(x)/dx |\n",
            "|-----|--------|------------|\n",
            "| 0.2 |   3    |      9.425 |\n",
            "| 0.4 |   3.9  |      2.45  |\n",
            "| 0.6 |   3.98 |      0.375 |\n",
            "| 0.8 |   4.2  |      1.3   |\n",
            "| 1   |   4.5  |      0.325 |\n"
          ]
        }
      ],
      "source": [
        "import numpy as np\n",
        "\n",
        "def five_point(x, y):\n",
        "     if len(x) < 5:\n",
        "      raise Exception(\"Five point formula not applicable\")\n",
        "     # Compute the step size h\n",
        "     data=[]\n",
        "     h = x[1] - x[0]\n",
        "     \n",
        "     tp = np.zeros_like(y)\n",
        "     tp[0]=(-25*y[0]+48*y[1]-36*y[2]+16*y[3]-3*y[4])/(12*h) #fivee point endpoint (left end) formula\n",
        "     tp[-1]=(25*y[-1]-48*y[-2]+36*y[-3]-16*y[-4]+3*y[-5])/(12*h) #five point endpoint (right end) formula\n",
        "     data.append([x[0],y[0],tp[0]])\n",
        "     mid=int((0+len(x))/2)\n",
        "     for i in range(1,mid):\n",
        "               tp[i] = (y[i+1] - y[i-1]) / (2*h) #three point midpoint formula for x[1]\n",
        "               data.append([x[i],y[i],tp[i]])\n",
        "     tp[mid] = (y[0] - 8*y[1] + 8*y[3] - y[4]) / (12*h)\n",
        "     data.append([x[2],y[2],tp[2]])\n",
        "     for i in range(mid+1,len(x)-1):\n",
        "               tp[i] = (y[i+1] - y[i-1]) / (2*h) #three point midpoint formula for x[3]\n",
        "               data.append([x[i],y[i],tp[i]])\n",
        "     data.append([x[-1],y[-1],tp[-1]])\n",
        "\n",
        "     print(tabulate(data,headers=['x','f(x)','df(x)/dx'],tablefmt=\"github\"))\n",
        "     \n",
        "     \n",
        "     return\n",
        "\n",
        "# example to run above code\n",
        "x=[0.2,0.4,0.6,0.8,1]\n",
        "y=[3,3.9,3.98,4.2,4.5]\n",
        "five_point(x, y)"
      ]
    },
    {
      "cell_type": "markdown",
      "metadata": {
        "id": "JYP-eo1zrqyp"
      },
      "source": [
        "## **How to take integral in python**"
      ]
    },
    {
      "cell_type": "code",
      "execution_count": 13,
      "metadata": {
        "id": "BJi5q9oxrz-C"
      },
      "outputs": [
        {
          "name": "stdout",
          "output_type": "stream",
          "text": [
            "-0.7339691750802008\n"
          ]
        }
      ],
      "source": [
        "x = symbols('x')   #Make x a symbol  \n",
        "f = 2*x/(x**2-4)      #Function to take integrate\n",
        "\n",
        "I_actual = float(integrate(f, (x,1,1.6)))    #integrate(f,(x,l,u)) is used to take integral of f from l to u\n",
        "print(I_actual)"
      ]
    },
    {
      "cell_type": "markdown",
      "metadata": {
        "id": "2589Pkzws41z"
      },
      "source": [
        "##**Numerical Integration by using Composite Trapezoidal rule**\n",
        "### Trapezoid Rule\n",
        "$$\\int_a^b f(x) dx \\approx \\frac{h}{2}[f(a)+ \\sum_{i=1}^{n-1} {f(x_i)}+f(b)]$$\n"
      ]
    },
    {
      "cell_type": "code",
      "execution_count": 14,
      "metadata": {
        "id": "rGd7hwUVwe_5"
      },
      "outputs": [],
      "source": [
        "def comp_trapezoidal_rule(f, a, b, n=1):  #n=1 indicates simple trpezoidal rule\n",
        "    h = (b - a) / n\n",
        "    x = [a + i*h for i in range(n+1)]\n",
        "    y = [f(xi) for xi in x]\n",
        "    s = sum(y[1:-1])\n",
        "    ans=h/2 * (y[0] + 2*s + y[-1])\n",
        "    return ans"
      ]
    },
    {
      "cell_type": "code",
      "execution_count": 15,
      "metadata": {
        "colab": {
          "base_uri": "https://localhost:8080/"
        },
        "id": "hfmb7T-vw_3d",
        "outputId": "e6373912-0e56-4b71-d8d9-bfe9cc42d1bd"
      },
      "outputs": [
        {
          "name": "stdout",
          "output_type": "stream",
          "text": [
            "-0.866666666666667\n",
            "-0.7435983879717899\n"
          ]
        }
      ],
      "source": [
        "\n",
        "#Example for simple and composite Trapezoidal\n",
        "def f(x):\n",
        "  return(2*x/(x**2-4))\n",
        "strap=comp_trapezoidal_rule(f,1,1.6)\n",
        "print(strap) # gives ans of simple trapezoidal rule\n",
        "ctrap=comp_trapezoidal_rule(f,1,1.6,4)\n",
        "print(ctrap) # gives ans of composite trapezoidal rule with n=4"
      ]
    },
    {
      "cell_type": "markdown",
      "metadata": {
        "id": "4NxU7C5XzpzL"
      },
      "source": [
        "**Computing Actual Error for simple and composite trapezoidal rules**\n",
        "\n",
        "\n"
      ]
    },
    {
      "cell_type": "code",
      "execution_count": 16,
      "metadata": {
        "id": "zyB5RzwG0Hmd"
      },
      "outputs": [
        {
          "name": "stdout",
          "output_type": "stream",
          "text": [
            "0.13269749158646627\n",
            "0.009629212891589134\n"
          ]
        }
      ],
      "source": [
        "print(I_actual-strap)\n",
        "print(I_actual-ctrap)"
      ]
    },
    {
      "cell_type": "markdown",
      "metadata": {
        "id": "KPKtpCyyjRNY"
      },
      "source": [
        "###**For calculating SimpleTrapezoidal error bound**\n",
        "\n",
        "Working for Question no 3e Exercise 4.3\n",
        "\n"
      ]
    },
    {
      "cell_type": "code",
      "execution_count": 17,
      "metadata": {
        "id": "wAimSO_XjYa2"
      },
      "outputs": [],
      "source": [
        "from sympy import* #Call Library of sympy\n",
        "x = symbols('x')\n",
        "f=2*x/(x**2-4)\n",
        "\n",
        "def Error_bound_trap(f,l,u):#l is the lower limit and u is the upper limit of integral\n",
        "   ddf = diff(f, x,2)    #Evaluating second derivative of f\n",
        "   abs_max_ddf=max(abs(ddf.subs(x,l)),abs(ddf.subs(x,u)))\n",
        "   h=u-l\n",
        "   Error_bound=h**3*abs_max_ddf/12\n",
        "   return (Error_bound,abs_max_ddf)"
      ]
    },
    {
      "cell_type": "code",
      "execution_count": 18,
      "metadata": {
        "colab": {
          "base_uri": "https://localhost:8080/"
        },
        "id": "cBsX-Hd2k_nK",
        "outputId": "816819f6-f6ed-4565-bf29-7c6bb548f38b"
      },
      "outputs": [
        {
          "data": {
            "text/plain": [
              "(0.561728395061729, 31.2071330589849)"
            ]
          },
          "execution_count": 18,
          "metadata": {},
          "output_type": "execute_result"
        }
      ],
      "source": [
        "Error_bound_trap(f,1,1.6)"
      ]
    },
    {
      "cell_type": "markdown",
      "metadata": {
        "id": "mrdwAZMKoUp8"
      },
      "source": [
        "**Task 4: Make a code of composite simpson's 1/3rd rule (set n=2 for simple simpson and raise exception when user enters n=odd value) and run on f(x) mentioned in exercise # 4.3, Question #5c and excercise # 4.4, Question 3e**\n",
        "\n",
        "> Indented block\n",
        "\n"
      ]
    },
    {
      "cell_type": "code",
      "execution_count": 19,
      "metadata": {},
      "outputs": [],
      "source": [
        "# Make a code of composite simpson's 1/3rd rule (set n=2 for simple simpson and raise exception when user enters n=odd value)\n",
        "\n",
        "def comp_simpson(f, a, b, n=2):\n",
        "    if n%2!=0:\n",
        "        raise Exception(\"n must be even\")\n",
        "    h = (b - a) / n\n",
        "    x = [a + i*h for i in range(n+1)]\n",
        "    y = [f(xi) for xi in x]\n",
        "    s1 = sum(y[1:-1:2])\n",
        "    s2 = sum(y[2:-1:2])\n",
        "    ans=h/3 * (y[0] + 4*s1 + 2*s2 + y[-1])\n",
        "    return ans"
      ]
    },
    {
      "cell_type": "code",
      "execution_count": 26,
      "metadata": {},
      "outputs": [
        {
          "name": "stdout",
          "output_type": "stream",
          "text": [
            "0.192245307413098\n",
            "0.192258460445610\n"
          ]
        }
      ],
      "source": [
        "def f(x):\n",
        "  return(x**2*ln(x))\n",
        "ssimp=comp_simpson(f, 1, 1.5)\n",
        "print(ssimp) # gives ans of simple sinmpson 1/3 rule\n",
        "csimp=comp_simpson(f,1,1.5,4)\n",
        "print(csimp) # gives ans of composite simpson 1/3 rule with n=4"
      ]
    },
    {
      "cell_type": "code",
      "execution_count": 30,
      "metadata": {},
      "outputs": [
        {
          "name": "stdout",
          "output_type": "stream",
          "text": [
            "0.19225935773279607\n",
            "1.40503196976449e-5\n",
            "8.97287186329976e-7\n"
          ]
        }
      ],
      "source": [
        "x = symbols('x')   #Make x a symbol  \n",
        "f = x**2*ln(x)    #Function to take integrate\n",
        "\n",
        "I_actual = float(integrate(f, (x,1,1.5)))    #integrate(f,(x,l,u)) is used to take integral of f from l to u\n",
        "print(I_actual)\n",
        "print(I_actual-ssimp)\n",
        "print(I_actual-csimp)"
      ]
    },
    {
      "cell_type": "code",
      "execution_count": 32,
      "metadata": {},
      "outputs": [
        {
          "name": "stdout",
          "output_type": "stream",
          "text": [
            "-3.69486488910236\n",
            "-14.1833415614467\n"
          ]
        }
      ],
      "source": [
        "# Q3e from 4.4\n",
        "def f(x):\n",
        "  return(exp(2*x)*sin(3*x))\n",
        "ssimp=comp_simpson(f, 0, 2)\n",
        "print(ssimp) # gives ans of simple sinmpson 1/3 rule\n",
        "csimp=comp_simpson(f,0,2,8)\n",
        "print(csimp) # gives ans of composite simpson 1/3 rule with n=8"
      ]
    },
    {
      "cell_type": "code",
      "execution_count": 33,
      "metadata": {},
      "outputs": [
        {
          "name": "stdout",
          "output_type": "stream",
          "text": [
            "-14.213977129862522\n",
            "-10.5191122407602\n",
            "-0.0306355684158266\n"
          ]
        }
      ],
      "source": [
        "x = symbols('x')   #Make x a symbol  \n",
        "f = exp(2*x)*sin(3*x)     #Function to take integrate\n",
        "\n",
        "I_actual = float(integrate(f, (x,0,2)))    #integrate(f,(x,l,u)) is used to take integral of f from l to u\n",
        "print(I_actual)\n",
        "print(I_actual-ssimp)\n",
        "print(I_actual-csimp)"
      ]
    },
    {
      "cell_type": "code",
      "execution_count": null,
      "metadata": {},
      "outputs": [],
      "source": []
    },
    {
      "cell_type": "markdown",
      "metadata": {
        "id": "swshrTqlqB-J"
      },
      "source": [
        "**For calculating simple Simpson's 1/3rd rule error bound**"
      ]
    },
    {
      "cell_type": "code",
      "execution_count": 21,
      "metadata": {
        "id": "348kqnklnEAj"
      },
      "outputs": [],
      "source": [
        "from sympy import* \n",
        "x = symbols('x')   \n",
        "f = x**4       \n",
        "def Error_bound_simp(f,l,u):\n",
        "   d4f = diff(f, x,4)    \n",
        "   abs_max_ddf=max(abs(d4f.subs(x,l)),abs(d4f.subs(x,u)))\n",
        "   h=(u-l)/2\n",
        "   Error_bound=h**5*abs_max_ddf/90\n",
        "   return(Error_bound,abs_max_ddf)"
      ]
    },
    {
      "cell_type": "markdown",
      "metadata": {
        "id": "EQsQbBetMvlK"
      },
      "source": [
        "**Task 5: Find Error bound for Exercise 4.3 Qno 7 part(a) and (b)**"
      ]
    },
    {
      "cell_type": "code",
      "execution_count": 22,
      "metadata": {},
      "outputs": [
        {
          "data": {
            "text/plain": [
              "(0.000260416666666667, 24)"
            ]
          },
          "execution_count": 22,
          "metadata": {},
          "output_type": "execute_result"
        }
      ],
      "source": [
        "# Fint the error bound for composite simpson's 1/3rd rule\n",
        "\n",
        "Error_bound_simp(f,0.5,1)\n",
        "    "
      ]
    },
    {
      "cell_type": "code",
      "execution_count": 24,
      "metadata": {},
      "outputs": [
        {
          "data": {
            "text/plain": [
              "(9.91650304436643e-7, 0.0913904920568811)"
            ]
          },
          "execution_count": 24,
          "metadata": {},
          "output_type": "execute_result"
        }
      ],
      "source": [
        "from sympy import* \n",
        "x = symbols('x')     \n",
        "f = 2/(x-4)      \n",
        "def Error_bound_simp(f,l,u):\n",
        "   d4f = diff(f, x,4)    \n",
        "   abs_max_ddf=max(abs(d4f.subs(x,l)),abs(d4f.subs(x,u)))\n",
        "   h=(u-l)/2\n",
        "   Error_bound=h**5*abs_max_ddf/90\n",
        "   return(Error_bound,abs_max_ddf)\n",
        "\n",
        "Error_bound_simp(f,0,0.5)"
      ]
    },
    {
      "cell_type": "code",
      "execution_count": null,
      "metadata": {},
      "outputs": [],
      "source": []
    }
  ],
  "metadata": {
    "colab": {
      "provenance": []
    },
    "kernelspec": {
      "display_name": "Python 3",
      "name": "python3"
    },
    "language_info": {
      "codemirror_mode": {
        "name": "ipython",
        "version": 3
      },
      "file_extension": ".py",
      "mimetype": "text/x-python",
      "name": "python",
      "nbconvert_exporter": "python",
      "pygments_lexer": "ipython3",
      "version": "3.10.5"
    }
  },
  "nbformat": 4,
  "nbformat_minor": 0
}
