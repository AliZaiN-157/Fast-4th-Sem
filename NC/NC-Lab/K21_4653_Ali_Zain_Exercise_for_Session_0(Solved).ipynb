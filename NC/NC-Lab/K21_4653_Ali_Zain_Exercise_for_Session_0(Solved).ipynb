{
  "cells": [
    {
      "cell_type": "markdown",
      "metadata": {
        "id": "lSlkJO89WdKm"
      },
      "source": [
        "# Practice for  \n",
        "\n",
        "Complete the following exercise."
      ]
    },
    {
      "cell_type": "code",
      "execution_count": null,
      "metadata": {
        "colab": {
          "base_uri": "https://localhost:8080/"
        },
        "id": "Olbw8DkMWmNs",
        "outputId": "a452b12c-7cf1-4a6d-ca9b-34ddb1361706"
      },
      "outputs": [
        {
          "name": "stdout",
          "output_type": "stream",
          "text": [
            "Numerical Computing is an interesting course\n",
            "Numerical course\n"
          ]
        }
      ],
      "source": [
        "string1 = 'Numerical Computing'\n",
        "string2 = 'is an interesting course'\n",
        "\n",
        "#write code to display string 1 and 2 in a single out put.\n",
        "final_string1  = string1 +\" \"+ string2\n",
        "print(final_string1)\n",
        "#write code to display just 'Numerical course'(by slicing and adding string1 and string2)\n",
        "final_string2 = string1[0:10] + string2[-6:]\n",
        "print(final_string2)"
      ]
    },
    {
      "cell_type": "code",
      "execution_count": null,
      "metadata": {
        "colab": {
          "base_uri": "https://localhost:8080/"
        },
        "id": "I4PK0SqnXbev",
        "outputId": "91341db9-615b-46da-f5e8-c38897e2dcd8"
      },
      "outputs": [
        {
          "name": "stdout",
          "output_type": "stream",
          "text": [
            "['2', '3', '4', '5', '6']\n"
          ]
        }
      ],
      "source": [
        "#write the code to show s='2 3 4 5 6' using core python as ['2','3','4','5','6']\n",
        "s='2 3 4 5 6'\n",
        "print(s.split())"
      ]
    },
    {
      "cell_type": "code",
      "execution_count": 1,
      "metadata": {
        "colab": {
          "base_uri": "https://localhost:8080/"
        },
        "id": "-LMMWouyYyDb",
        "outputId": "1dc959a7-d0f4-4f9f-e5f7-9801d9060f64"
      },
      "outputs": [
        {
          "name": "stdout",
          "output_type": "stream",
          "text": [
            "Type of Tuple1:  <class 'tuple'>\n",
            "Length of Tuple1:  6\n",
            "Last Element of tuple1:  N\n"
          ]
        }
      ],
      "source": [
        "tuple1 = ('P', 'Y', 'T', 'H', 'O', 'N')\n",
        "#write a code to get length and type of tuple also write the code to print last element of tuple\n",
        "\n",
        "# Print type of tuple and length of tuple\n",
        "print(\"Type of Tuple1: \", type(tuple1))\n",
        "print(\"Length of Tuple1: \", len(tuple1))\n",
        "\n",
        "# Print last element of tuple\n",
        "print (\"Last Element of tuple1: \", tuple1[-1])\n"
      ]
    },
    {
      "cell_type": "code",
      "execution_count": 2,
      "metadata": {
        "id": "AaC7F7jjZW8r"
      },
      "outputs": [
        {
          "name": "stdout",
          "output_type": "stream",
          "text": [
            "[2, 4, 6, 8, 10]\n",
            "[2, 4, 6, 8, 10, 12]\n"
          ]
        }
      ],
      "source": [
        "#write a code to generate the list of even numbers from 2 till 10 (inclusive) then append 12 in list(notice the position of 12). Now insert 0 in the begining of list.\n",
        "# generate the list of even numbers from 2 till 10 (inclusive)\n",
        "even_list = [i for i in range(2,11,2)]\n",
        "print(even_list)\n",
        "# append 12 in list(notice the position of 12)\n",
        "even_list.append(12)\n",
        "print(even_list)"
      ]
    },
    {
      "cell_type": "code",
      "execution_count": 4,
      "metadata": {
        "id": "JYopIXHkZZ3Y"
      },
      "outputs": [
        {
          "name": "stdout",
          "output_type": "stream",
          "text": [
            "[[ 1  2  3  4]\n",
            " [ 5  6  7  8]\n",
            " [ 9 10 11 12]\n",
            " [13 14 15 16]]\n"
          ]
        }
      ],
      "source": [
        "#write a code to generate a 4x4 matrix(numerical values of your own choice) using nested list of core python.\n",
        "import numpy as np\n",
        "matrix = np.array([[1,2,3,4],[5,6,7,8],[9,10,11,12],[13,14,15,16]])\n",
        "print(matrix)\n"
      ]
    },
    {
      "cell_type": "code",
      "execution_count": 5,
      "metadata": {
        "id": "Ok2YKGF3bVSK"
      },
      "outputs": [
        {
          "name": "stdout",
          "output_type": "stream",
          "text": [
            "Cold\n"
          ]
        }
      ],
      "source": [
        "#write a code to diplay type of weather 'sunny','cold'and 'moderate' by taking input temprature. (Use conditional statement)\n",
        "\n",
        "temp = int(input(\"Enter temperature: \"))\n",
        "if temp > 30:\n",
        "    print(\"Sunny\")\n",
        "elif temp > 20:\n",
        "    print(\"Moderate\")\n",
        "elif temp > 10:\n",
        "    print(\"Cold\")"
      ]
    },
    {
      "cell_type": "code",
      "execution_count": 6,
      "metadata": {
        "id": "B0ytOq7scvsv"
      },
      "outputs": [
        {
          "name": "stdout",
          "output_type": "stream",
          "text": [
            "[0, 1, 2, 3, 4]\n",
            "[0, 1, 2, 3, 4]\n"
          ]
        }
      ],
      "source": [
        "#write a code to append an empty list using while loop.\n",
        "#write a code to append an empty list using for loop.\n",
        "#Do use continue or break statement in above code.\n",
        "\n",
        "list1 = []\n",
        "i=0\n",
        "while i<5:\n",
        "    list1.append(i)\n",
        "    i+=1\n",
        "print(list1)\n",
        "\n",
        "list2 = []\n",
        "for i in range(5):\n",
        "    list2.append(i)\n",
        "print(list2)\n",
        "\n"
      ]
    },
    {
      "cell_type": "code",
      "execution_count": 8,
      "metadata": {
        "id": "62BMSxhhdLDr"
      },
      "outputs": [
        {
          "name": "stdout",
          "output_type": "stream",
          "text": [
            "2\n",
            "<class 'int'>\n",
            "2.8\n",
            "<class 'str'>\n"
          ]
        }
      ],
      "source": [
        "#write a code to change the type of 2.8 from float to integer, then from float to string.\n",
        "float_to_int = int(2.8)\n",
        "print(float_to_int)\n",
        "print(type(float_to_int))\n",
        "\n",
        "float_to_str = str(2.8)\n",
        "print(float_to_str)\n",
        "print(type(float_to_str))"
      ]
    },
    {
      "cell_type": "code",
      "execution_count": 9,
      "metadata": {
        "id": "N9OpHruBeGgh"
      },
      "outputs": [
        {
          "name": "stdout",
          "output_type": "stream",
          "text": [
            "Name:  Ali Zain\n",
            "Age:  20\n",
            "CGPA:  3.7\n"
          ]
        }
      ],
      "source": [
        "#write code to take your name, age and CGPA input from input prompt.\n",
        "#use command of eval() to take age as an integer.\n",
        "\n",
        "name = input(\"Enter your name: \")\n",
        "age = eval(input(\"Enter your age: \"))\n",
        "cgpa = float(input(\"Enter your CGPA: \"))\n",
        "print(\"Name: \", name)\n",
        "print(\"Age: \", age)\n",
        "print(\"CGPA: \", cgpa)"
      ]
    },
    {
      "cell_type": "code",
      "execution_count": 1,
      "metadata": {
        "id": "GBzWf4XLgMxN"
      },
      "outputs": [
        {
          "name": "stdout",
          "output_type": "stream",
          "text": [
            "[[ 1  2  3  4]\n",
            " [ 5  6  7  8]\n",
            " [ 9 10 11 12]\n",
            " [13 14 15 16]]\n"
          ]
        }
      ],
      "source": [
        "#Make a txt file of some numeric data, and write a code read it \n",
        "\n",
        "#Make a txt file of some numeric data\n",
        "file = open(\"data.txt\", \"w\")\n",
        "import numpy as np\n",
        "matrix = np.array([[1,2,3,4],[5,6,7,8],[9,10,11,12],[13,14,15,16]])\n",
        "file.write(str(matrix))\n",
        "file.close()\n",
        "\n",
        "#write a code read it\n",
        "file = open(\"data.txt\", \"r\")\n",
        "data = file.read()\n",
        "print(data)"
      ]
    },
    {
      "cell_type": "code",
      "execution_count": 14,
      "metadata": {
        "id": "i8xC9RSY5MPf"
      },
      "outputs": [
        {
          "name": "stdout",
          "output_type": "stream",
          "text": [
            "0.18782736394428456\n"
          ]
        }
      ],
      "source": [
        "# write a code to print value of following expression Sin(x^2)+Cos(y^2) at (1,2) using lambda function to show expression.\n",
        "\n",
        "import numpy as np\n",
        "f = lambda x,y: np.sin(x**2) + np.cos(y**2)\n",
        "print(f(1,2))"
      ]
    },
    {
      "cell_type": "code",
      "execution_count": 19,
      "metadata": {
        "id": "2-RgbkyX6iEr"
      },
      "outputs": [
        {
          "data": {
            "image/png": "[encoded data removed]",
            "text/plain": [
              "<Figure size 432x288 with 1 Axes>"
            ]
          },
          "metadata": {
            "needs_background": "light"
          },
          "output_type": "display_data"
        }
      ],
      "source": [
        "# write the code of to save a mathematical function and plot the function using matplotlib.pyplot.\n",
        "# use function f(m)= sqrt(9.81*m/0.25)*tanh(4*sqrt(9.81*0.25/m))-36 don't forget to label the plot\n",
        "\n",
        "import numpy as np\n",
        "import matplotlib.pyplot as plt\n",
        "\n",
        "m = np.linspace(20, 400, 100)\n",
        "\n",
        "t = np.sqrt(9.81*m/0.25)*np.tanh(4*np.sqrt(9.81*0.25/m))-36\n",
        "\n",
        "plt.plot(m, t)\n",
        "plt.xlabel(\"Mass\")\n",
        "plt.ylabel(\"Time\")\n",
        "plt.title(\"Time vs Mass\")\n",
        "plt.show()\n"
      ]
    },
    {
      "cell_type": "code",
      "execution_count": null,
      "metadata": {},
      "outputs": [],
      "source": []
    }
  ],
  "metadata": {
    "colab": {
      "provenance": []
    },
    "kernelspec": {
      "display_name": "Python 3",
      "language": "python",
      "name": "python3"
    },
    "language_info": {
      "codemirror_mode": {
        "name": "ipython",
        "version": 3
      },
      "file_extension": ".py",
      "mimetype": "text/x-python",
      "name": "python",
      "nbconvert_exporter": "python",
      "pygments_lexer": "ipython3",
      "version": "3.10.5"
    },
    "vscode": {
      "interpreter": {
        "hash": "0df38451bb097d17e60967b9a23710763ae6ec22ddce554ba448691c623aba57"
      }
    }
  },
  "nbformat": 4,
  "nbformat_minor": 0
}
