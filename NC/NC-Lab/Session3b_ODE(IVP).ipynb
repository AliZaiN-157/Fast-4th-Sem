{
  "cells": [
    {
      "cell_type": "markdown",
      "metadata": {
        "id": "IHSRvj_NjO21"
      },
      "source": [
        "## Euler's Method"
      ]
    },
    {
      "cell_type": "markdown",
      "metadata": {
        "id": "zD4QD5vhjV3d"
      },
      "source": [
        "### Algorithm"
      ]
    },
    {
      "cell_type": "markdown",
      "metadata": {
        "id": "boUVyVW8kRq4"
      },
      "source": [
        "```\n",
        "Function will take following input:(f,t_initial,t_final,y_initial,h)\n",
        "f(t,y) from y'= f(t,y)\n",
        "t_initial(starting point of domain)\n",
        "t_final(ending point of domain)\n",
        "y_initial(initial condition)\n",
        "h(step size)\n",
        "\n",
        "\n",
        "1 Initialize the initial value of y and the initial time t.\n",
        "\n",
        "2 Set the number of steps n = (t_final - t_initial) / h.\n",
        "\n",
        "3 Loop from i = 1 to i = n:\n",
        "  a. Calculate the slope of the function at the current time and value of y     using the given differential equation.\n",
        "  b. Calculate the new value of y using the formula: y(i) = y(i-1) + h * slope(i-1).\n",
        "  c. Update the value of time t(i) = t(i-1) + h.\n",
        "\n",
        "4 Return the values of time and y at each step.\n",
        "```\n",
        "\n",
        "\n"
      ]
    },
    {
      "cell_type": "code",
      "execution_count": 44,
      "metadata": {
        "id": "mUAzfK77jlPx"
      },
      "outputs": [],
      "source": [
        "def euler_method(f, t_initial, t_final, y_initial, h):\n",
        "    \"\"\"\n",
        "    Solves the ordinary differential equation y' = f(t, y) using Euler's method with step size h.\n",
        "    Returns arrays of time and y values at each step.\n",
        "    \"\"\"\n",
        "    num_steps = int((t_final - t_initial) / h)\n",
        "    t_values = [t_initial]\n",
        "    y_values = [y_initial]\n",
        "    print('\\n-------SOLUTION-------')\n",
        "    print('----------------------')    \n",
        "    print('#\\ttn\\tyn')\n",
        "    print('----------------------')\n",
        "    for i in range(num_steps):\n",
        "        slope = f(t_values[i], y_values[i])\n",
        "        y_new = y_values[i] + h * slope\n",
        "        t_new = t_values[i] + h\n",
        "        y_values.append(y_new)\n",
        "        t_values.append(t_new)\n",
        "        print('%d\\t%.2f\\t%.4f'% (i+1,t_new,y_new) )\n",
        "        print('----------------------')\n",
        "    return t_values,y_values\n"
      ]
    },
    {
      "cell_type": "code",
      "execution_count": 45,
      "metadata": {
        "colab": {
          "base_uri": "https://localhost:8080/"
        },
        "id": "MXCKd-72uvTA",
        "outputId": "0c795a18-e9b7-486b-8a83-89c33ebe0e11"
      },
      "outputs": [
        {
          "name": "stdout",
          "output_type": "stream",
          "text": [
            "\n",
            "-------SOLUTION-------\n",
            "----------------------\n",
            "#\ttn\tyn\n",
            "----------------------\n",
            "1\t0.10\t1.0000\n",
            "----------------------\n",
            "2\t0.20\t1.0105\n",
            "----------------------\n",
            "3\t0.30\t1.0316\n",
            "----------------------\n",
            "4\t0.40\t1.0634\n",
            "----------------------\n",
            "5\t0.50\t1.1063\n",
            "----------------------\n",
            "6\t0.60\t1.1605\n",
            "----------------------\n",
            "7\t0.70\t1.2267\n",
            "----------------------\n",
            "8\t0.80\t1.3054\n",
            "----------------------\n",
            "9\t0.90\t1.3974\n",
            "----------------------\n",
            "10\t1.00\t1.5036\n",
            "----------------------\n"
          ]
        }
      ],
      "source": [
        "import numpy as np\n",
        "def f(t,y):\n",
        "  return np.exp(t)-y\n",
        "\n",
        "t_E,y_E=euler_method(f, 0, 1, 1,0.1)"
      ]
    },
    {
      "cell_type": "code",
      "execution_count": 46,
      "metadata": {
        "colab": {
          "base_uri": "https://localhost:8080/"
        },
        "id": "q7Q8NC7WBSJN",
        "outputId": "486a96e7-b9af-47f5-c57b-81c20f5b3242"
      },
      "outputs": [
        {
          "data": {
            "text/plain": [
              "[1,\n",
              " 1.0,\n",
              " 1.0105170918075648,\n",
              " 1.0316056584428253,\n",
              " 1.0634309733561431,\n",
              " 1.1062703457846559,\n",
              " 1.160515438276203,\n",
              " 1.2266757744876338,\n",
              " 1.305383467785918,\n",
              " 1.397399213856573,\n",
              " 1.5036196035866105]"
            ]
          },
          "execution_count": 46,
          "metadata": {},
          "output_type": "execute_result"
        }
      ],
      "source": [
        "y_E"
      ]
    },
    {
      "cell_type": "code",
      "execution_count": 47,
      "metadata": {
        "id": "RUf7uFX6iHBc"
      },
      "outputs": [],
      "source": [
        "import numpy as np\n",
        "def f1(t,y):\n",
        "  return np.exp(t-y)"
      ]
    },
    {
      "cell_type": "code",
      "execution_count": 48,
      "metadata": {
        "colab": {
          "base_uri": "https://localhost:8080/"
        },
        "id": "9BmSxohqiM9q",
        "outputId": "02f97883-ce0c-4c52-ed9f-6d0501c2a29e"
      },
      "outputs": [
        {
          "name": "stdout",
          "output_type": "stream",
          "text": [
            "\n",
            "-------SOLUTION-------\n",
            "----------------------\n",
            "#\ttn\tyn\n",
            "----------------------\n",
            "1\t0.25\t1.0920\n",
            "----------------------\n",
            "2\t0.50\t1.1997\n",
            "----------------------\n",
            "3\t0.75\t1.3239\n",
            "----------------------\n",
            "4\t1.00\t1.4647\n",
            "----------------------\n"
          ]
        }
      ],
      "source": [
        "t_d,y_d=euler_method(f1, 0, 1, 1,0.25)"
      ]
    },
    {
      "cell_type": "markdown",
      "metadata": {
        "id": "uM64aIVw2-W5"
      },
      "source": [
        "## RK-4 Method"
      ]
    },
    {
      "cell_type": "markdown",
      "metadata": {
        "id": "o1haTc3S3EsQ"
      },
      "source": [
        "### Algorithm"
      ]
    },
    {
      "cell_type": "markdown",
      "metadata": {
        "id": "LEJr8j6633lV"
      },
      "source": [
        "To solve:$\\dfrac{dy}{dx}=f(x,y)$\n",
        "\n",
        "$x_{i+1} = x_i + h,\\\\y_{i+1} = y_i + \\frac{1}{6}(k_1+2k_2+2k_3+k_4)h\\\\ k_1 = \\ f(x_i, y_i),\\\\ k_2 =  f(x_i + 0.5h, y_i + 0.5 k_1),\\\\ k_3 =  f(x_i + 0.5h, y_i + 0.5 k_2).\\\\ k_4 = f(x_i + h, y_i + k_3),\n",
        " \\\\ $"
      ]
    },
    {
      "cell_type": "markdown",
      "metadata": {
        "id": "GVYq0RDc3Q0V"
      },
      "source": [
        "```\n",
        "Function will take following input:(f,t_initial,t_final,y_initial,h)\n",
        "f(t,y) from y'= f(t,y)\n",
        "t_initial(starting point of domain)\n",
        "t_final(ending point of domain)\n",
        "y_initial(initial condition)\n",
        "h(step size)\n",
        "\n",
        "\n",
        "1 Initialize the initial value of y and the initial time t.\n",
        "\n",
        "2 Set the number of steps n = (t_final - t_initial) / h.\n",
        "\n",
        "3 Loop from i = 1 to i = n:\n",
        "  a)Calculate\n",
        "      k1 =  f(x0, y0)\n",
        "      k2 =  f(x0+h/2, y0+k1/2)\n",
        "      k3 =  f(x0+h/2, y0+k2/2)\n",
        "      k4 =  f(x0+h, y0+k3)\n",
        "\n",
        "  b) Calculate the new value of y using the formula: y(i) = y(i-1) + (k1+2*k2+2*k3+k4)*h/6\n",
        "  c) Update the value of time t(i) = t(i-1) + h.\n",
        "\n",
        "4 Return the values of time and y at each step.\n",
        "```"
      ]
    },
    {
      "cell_type": "code",
      "execution_count": 49,
      "metadata": {
        "id": "Qb3jE4DO3ChT"
      },
      "outputs": [],
      "source": [
        "def RK4_method(f, t_initial, t_final, y_initial, h):\n",
        "    \"\"\"\n",
        "    Solves the ordinary differential equation y' = f(t, y) using Euler's method with step size h.\n",
        "    Returns arrays of time and y values at each step.\n",
        "    \"\"\"\n",
        "    num_steps = int((t_final - t_initial) / h)\n",
        "    t_values = [t_initial]\n",
        "    y_values = [y_initial]\n",
        "    print('\\n-------SOLUTION-------')\n",
        "    print('----------------------')    \n",
        "    print('#\\ttn\\tyn')\n",
        "    print('----------------------')\n",
        "    for i in range(num_steps):\n",
        "        k1 = f(t_values[i], y_values[i])\n",
        "        k2 = f(t_values[i]+0.5*h, y_values[i]+0.5*k1*h)\n",
        "        k3 = f(t_values[i]+h/2, y_values[i]+h*k2/2)\n",
        "        k4 = f(t_values[i]+h, y_values[i]+h*k3)\n",
        "        y_new = y_values[i] + (h/6) * (k1+2*k2+2*k3+k4)\n",
        "        t_new = t_values[i] + h\n",
        "        y_values.append(y_new)\n",
        "        t_values.append(t_new)\n",
        "        print('%d\\t%.2f\\t%.4f'% (i+1,t_new,y_new) )\n",
        "        print('----------------------')\n",
        "    return t_values,y_values\n"
      ]
    },
    {
      "cell_type": "code",
      "execution_count": 50,
      "metadata": {
        "colab": {
          "base_uri": "https://localhost:8080/"
        },
        "id": "d6NG5mos8UPg",
        "outputId": "9702acfd-ce93-4fc9-d7e2-0402f37bbeb1"
      },
      "outputs": [
        {
          "name": "stdout",
          "output_type": "stream",
          "text": [
            "\n",
            "-------SOLUTION-------\n",
            "----------------------\n",
            "#\ttn\tyn\n",
            "----------------------\n",
            "1\t0.10\t1.0050\n",
            "----------------------\n",
            "2\t0.20\t1.0201\n",
            "----------------------\n",
            "3\t0.30\t1.0453\n",
            "----------------------\n",
            "4\t0.40\t1.0811\n",
            "----------------------\n",
            "5\t0.50\t1.1276\n",
            "----------------------\n",
            "6\t0.60\t1.1855\n",
            "----------------------\n",
            "7\t0.70\t1.2552\n",
            "----------------------\n",
            "8\t0.80\t1.3374\n",
            "----------------------\n",
            "9\t0.90\t1.4331\n",
            "----------------------\n",
            "10\t1.00\t1.5431\n",
            "----------------------\n"
          ]
        }
      ],
      "source": [
        "import numpy as np\n",
        "def f(t,y):\n",
        "  return np.exp(t)-y\n",
        "\n",
        "t_R,y_R=RK4_method(f, t_initial=0, t_final=1, y_initial=1,h= 0.1)"
      ]
    },
    {
      "cell_type": "markdown",
      "metadata": {
        "id": "ZOmhi-2g8yip"
      },
      "source": [
        "## Library Function to solve ODE(IVP)"
      ]
    },
    {
      "cell_type": "code",
      "execution_count": 51,
      "metadata": {
        "colab": {
          "base_uri": "https://localhost:8080/"
        },
        "id": "_kivz99p85-7",
        "outputId": "8d92f260-01ae-4ad7-d667-d5bc355b1945"
      },
      "outputs": [
        {
          "name": "stdout",
          "output_type": "stream",
          "text": [
            "\n",
            "----Library_SOLUTION-------\n",
            "----------------------\n",
            "#\ttn\tyn\n",
            "----------------------\n",
            "1\t0.10\t1.0380\n",
            "----------------------\n",
            "2\t0.20\t1.0783\n",
            "----------------------\n",
            "3\t0.30\t1.1211\n",
            "----------------------\n",
            "4\t0.40\t1.1663\n",
            "----------------------\n",
            "5\t0.50\t1.2140\n",
            "----------------------\n",
            "6\t0.60\t1.2642\n",
            "----------------------\n",
            "7\t0.70\t1.3169\n",
            "----------------------\n",
            "8\t0.80\t1.3721\n",
            "----------------------\n",
            "9\t0.90\t1.4298\n",
            "----------------------\n",
            "10\t1.00\t1.4899\n",
            "----------------------\n"
          ]
        }
      ],
      "source": [
        "import numpy as np\n",
        "from scipy.integrate import solve_ivp\n",
        "def f(t,y):\n",
        "  return np.exp(t-y)\n",
        "sol = solve_ivp(f, [0, 1], [1], t_eval=np.array(np.linspace(0.1,1,10)))\n",
        "t_l=sol.t\n",
        "y_l=sol.y.flatten()\n",
        "print('\\n----Library_SOLUTION-------')\n",
        "print('----------------------')    \n",
        "print('#\\ttn\\tyn')\n",
        "print('----------------------')\n",
        "\n",
        "for i in range(len(t_l)):\n",
        "   print('%d\\t%.2f\\t%.4f'% (i+1,t_l[i],y_l[i]) )\n",
        "   print('----------------------')\n",
        "   "
      ]
    },
    {
      "cell_type": "code",
      "execution_count": 52,
      "metadata": {
        "colab": {
          "base_uri": "https://localhost:8080/"
        },
        "id": "0gFcjtZF62uy",
        "outputId": "83fc267d-ee92-4144-c663-6ea559e74a59"
      },
      "outputs": [
        {
          "name": "stdout",
          "output_type": "stream",
          "text": [
            "[0.1 0.2 0.3 0.4 0.5 0.6 0.7 0.8 0.9 1. ]\n"
          ]
        }
      ],
      "source": [
        "t_l=sol.t\n",
        "print(t_l)"
      ]
    },
    {
      "cell_type": "code",
      "execution_count": 53,
      "metadata": {
        "colab": {
          "base_uri": "https://localhost:8080/"
        },
        "id": "LceRWwe9QyLj",
        "outputId": "bebc77f0-447e-462a-dfa0-cc08dcddcd57"
      },
      "outputs": [
        {
          "name": "stdout",
          "output_type": "stream",
          "text": [
            "[1.00500417 1.0200103  1.04514216 1.08073618 1.12721258 1.18507425\n",
            " 1.25490676 1.33737837 1.43324001 1.54332529]\n",
            "[0.1 0.2 0.3 0.4 0.5 0.6 0.7 0.8 0.9 1. ]\n"
          ]
        }
      ],
      "source": [
        "import numpy as np\n",
        "from scipy.integrate import solve_ivp\n",
        "def f(t,y):\n",
        "  return np.exp(t)-y\n",
        "sol = solve_ivp(f, [0, 1], [1], t_eval=np.array(np.linspace(0.1,1,10)))\n",
        "print(sol.y.flatten())\n",
        "print(sol.t)\n",
        "y_l=sol.y.flatten()\n",
        "t_l=sol.t"
      ]
    },
    {
      "cell_type": "markdown",
      "metadata": {
        "id": "wXwjPVBQANRy"
      },
      "source": [
        "## Plotting "
      ]
    },
    {
      "cell_type": "code",
      "execution_count": 54,
      "metadata": {
        "colab": {
          "base_uri": "https://localhost:8080/",
          "height": 501
        },
        "id": "e0kcM6fo_NdB",
        "outputId": "cba43fc4-6912-4dd6-d083-f2c55c3a8280"
      },
      "outputs": [
        {
          "data": {
            "image/png": "[encoded data removed]",
            "text/plain": [
              "<Figure size 504x360 with 1 Axes>"
            ]
          },
          "metadata": {
            "needs_background": "light"
          },
          "output_type": "display_data"
        }
      ],
      "source": [
        "import matplotlib.pyplot as plt\n",
        "import numpy as np\n",
        "plt.figure(figsize=(7,5))\n",
        "\n",
        "\n",
        "plt.plot(t_l, y_l, label=\"Numerical solution:\\nLibrary_function_sol\", dashes=(3,2), color=\"red\",lw=3)\n",
        "plt.plot(t_R, y_R, label=\"Numerical solution:\\nRunge-Kutta\", dashes=(3,2), color=\"blue\",lw=3)\n",
        "plt.plot(t_E, y_E, label=\"Numerical solution:\\nEuler\", dashes=(3,2), color=\"green\",lw=3)\n",
        "\n",
        "plt.legend(loc=\"best\", fontsize=12)\n",
        "plt.title(r\"Solution to ODE: $\\quad\\frac{dy}{dx}=e^t -y$\")\n",
        "plt.xlabel(\"t\", fontsize=12)\n",
        "plt.ylabel(\"y\", fontsize=12)\n",
        "plt.show()\n"
      ]
    },
    {
      "cell_type": "markdown",
      "metadata": {
        "id": "aNuAz9RtFrWM"
      },
      "source": [
        "##Lab Task\n",
        "```\n",
        "1- Write the program for Heun's Method.\n",
        "2- Write the code to make a table to compare error of Heun's, Euler's, RK4 by using analytical solution.\n",
        "3- Repeat task 2 for three different DEs.\n",
        "\n"
      ]
    },
    {
      "cell_type": "code",
      "execution_count": 55,
      "metadata": {},
      "outputs": [],
      "source": [
        "# Required libraries\n",
        "import numpy as np\n",
        "from scipy.integrate import solve_ivp\n",
        "from tabulate import tabulate"
      ]
    },
    {
      "cell_type": "code",
      "execution_count": 56,
      "metadata": {},
      "outputs": [
        {
          "name": "stdout",
          "output_type": "stream",
          "text": [
            "\n",
            "-------SOLUTION-------\n",
            "----------------------\n",
            "#\ttn\tyn\n",
            "----------------------\n",
            "1\t0.10\t1.0053\n",
            "----------------------\n",
            "2\t0.20\t1.0206\n",
            "----------------------\n",
            "3\t0.30\t1.0461\n",
            "----------------------\n",
            "4\t0.40\t1.0820\n",
            "----------------------\n",
            "5\t0.50\t1.1288\n",
            "----------------------\n",
            "6\t0.60\t1.1869\n",
            "----------------------\n",
            "7\t0.70\t1.2568\n",
            "----------------------\n",
            "8\t0.80\t1.3393\n",
            "----------------------\n",
            "9\t0.90\t1.4352\n",
            "----------------------\n",
            "10\t1.00\t1.5454\n",
            "----------------------\n"
          ]
        }
      ],
      "source": [
        "# Heun's Method\n",
        "def f(t,y):\n",
        "    return np.exp(t)-y\n",
        "\n",
        "def heun_method(f, t_initial, t_final, y_initial, h):\n",
        "    \"\"\"\n",
        "    Solves the ordinary differential equation y' = f(t, y) using Euler's method with step size h.\n",
        "    Returns arrays of time and y values at each step.\n",
        "    \"\"\"\n",
        "    num_steps = int((t_final - t_initial) / h)\n",
        "    t_values = [t_initial]\n",
        "    y_values = [y_initial]\n",
        "    print('\\n-------SOLUTION-------')\n",
        "    print('----------------------')    \n",
        "    print('#\\ttn\\tyn')\n",
        "    print('----------------------')\n",
        "    for i in range(num_steps):\n",
        "        slope = f(t_values[i], y_values[i])\n",
        "        y_new = y_values[i] + h * slope\n",
        "        t_new = t_values[i] + h\n",
        "        slope_new = f(t_new, y_new)\n",
        "        y_new = y_values[i] + h * (slope + slope_new) / 2\n",
        "        y_values.append(y_new)\n",
        "        t_values.append(t_new)\n",
        "        print('%d\\t%.2f\\t%.4f'% (i+1,t_new,y_new) )\n",
        "        print('----------------------')\n",
        "    return t_values,y_values\n",
        "\n",
        "t_H,y_H=heun_method(f, t_initial=0, t_final=1, y_initial=1,h= 0.1)"
      ]
    },
    {
      "cell_type": "code",
      "execution_count": 57,
      "metadata": {},
      "outputs": [],
      "source": [
        "# Write the code to make a table to compare errors of Heun's, Euler's, RK4\n",
        "\n",
        "def error(y_exact,y_approx):\n",
        "    return abs(y_exact-y_approx)\n",
        "\n",
        "# Heun's Method\n",
        "def heun_method(f, t_initial, t_final, y_initial, h):\n",
        "    \"\"\"\n",
        "    Solves the ordinary differential equation y' = f(t, y) using Euler's method with step size h.\n",
        "    Returns arrays of time and y values at each step.\n",
        "    \"\"\"\n",
        "    num_steps = int((t_final - t_initial) / h)\n",
        "    t_values = [t_initial]\n",
        "    y_values = [y_initial]\n",
        "    print('\\n-------SOLUTION-------')\n",
        "    print('----------------------')    \n",
        "    print('#\\ttn\\tyn')\n",
        "    print('----------------------')\n",
        "    for i in range(num_steps):\n",
        "        slope = f(t_values[i], y_values[i])\n",
        "        y_new = y_values[i] + h * slope\n",
        "        t_new = t_values[i] + h\n",
        "        slope_new = f(t_new, y_new)\n",
        "        y_new = y_values[i] + h * (slope + slope_new) / 2\n",
        "        y_values.append(y_new)\n",
        "        t_values.append(t_new)\n",
        "        print('%d\\t%.2f\\t%.4f'% (i+1,t_new,y_new) )\n",
        "        print('----------------------')\n",
        "    return t_values,y_values\n",
        "\n",
        "# Euler's Method\n",
        "def euler_method(f, t_initial, t_final, y_initial, h):\n",
        "    \"\"\"\n",
        "    Solves the ordinary differential equation y' = f(t, y) using Euler's method with step size h.\n",
        "    Returns arrays of time and y values at each step.\n",
        "    \"\"\"\n",
        "    num_steps = int((t_final - t_initial) / h)\n",
        "    t_values = [t_initial]\n",
        "    y_values = [y_initial]\n",
        "    print('\\n-------SOLUTION-------')\n",
        "    print('----------------------')    \n",
        "    print('#\\ttn\\tyn')\n",
        "    print('----------------------')\n",
        "    for i in range(num_steps):\n",
        "        y_new = y_values[i] + h * f(t_values[i], y_values[i])\n",
        "        y_values.append(y_new)\n",
        "        t_new = t_values[i] + h\n",
        "        t_values.append(t_new)\n",
        "        print('%d\\t%.2f\\t%.4f'% (i+1,t_new,y_new) )\n",
        "        print('----------------------')\n",
        "    return t_values,y_values\n",
        "\n",
        "# Runge-Kutta Method\n",
        "def runge_kutta_method(f, t_initial, t_final, y_initial, h):\n",
        "    \"\"\"\n",
        "    Solves the ordinary differential equation y' = f(t, y) using Runge-Kutta method with step size h.\n",
        "    Returns arrays of time and y values at each step.\n",
        "    \"\"\"\n",
        "    num_steps = int((t_final - t_initial) / h)\n",
        "    t_values = [t_initial]\n",
        "    y_values = [y_initial]\n",
        "    print('\\n-------SOLUTION-------')\n",
        "    print('----------------------')    \n",
        "    print('#\\ttn\\tyn')\n",
        "    print('----------------------')\n",
        "    for i in range(num_steps):\n",
        "        k1 = f(t_values[i], y_values[i])\n",
        "        k2 = f(t_values[i] + h / 2, y_values[i] + h * k1 / 2)\n",
        "        k3 = f(t_values[i] + h / 2, y_values[i] + h * k2 / 2)\n",
        "        k4 = f(t_values[i] + h, y_values[i] + h * k3)\n",
        "        y_new = y_values[i] + h * (k1 + 2 * k2 + 2 * k3 + k4) / 6\n",
        "        y_values.append(y_new)\n",
        "        t_new = t_values[i] + h\n",
        "        t_values.append(t_new)\n",
        "        print('%d\\t%.2f\\t%.4f'% (i+1,t_new,y_new) )\n",
        "        print('----------------------')\n",
        "    return t_values,y_values"
      ]
    },
    {
      "cell_type": "code",
      "execution_count": 58,
      "metadata": {},
      "outputs": [],
      "source": [
        "def error_table(f,t_initial,t_final,y_initial,h):\n",
        "  num_steps = int((t_final - t_initial) / h)\n",
        "  data=[]\n",
        "\n",
        "  sol = solve_ivp(f, [t_initial, t_final], [1], t_eval=np.array(np.linspace(t_initial+h,t_final,num_steps)))\n",
        "  y_l_a=sol.y.flatten()\n",
        "  y_l=np.insert(y_l_a,0,y_initial)\n",
        "  t_E,y_E=euler_method(f,t_initial,t_final,y_initial,h)\n",
        "  t_H,y_H=heun_method(f,t_initial,t_final,y_initial,h)\n",
        "  t_R,y_R=runge_kutta_method(f,t_initial,t_final,y_initial,h)\n",
        "\n",
        " \n",
        "  er1=error(y_l,y_E)\n",
        "  er2=error(y_l,y_H)\n",
        "  er3=error(y_l,y_R)\n",
        "\n",
        "  print('\\n-------------------------ERRORS-------------------------------')\n",
        "  print('--------------------------------------------------------------')\n",
        "  print('#\\tStep\\tEuler Error\\tHeun Error\\tRK4 Error')\n",
        "  print('--------------------------------------------------------------')\n",
        "  for i in range(len(t_E)):\n",
        "        print('%d\\t%.2f\\t%.6f\\t%.6f\\t%.6f' % (i+1, t_E[i], er1[i], er2[i], er3[i]))\n",
        "        print('--------------------------------------------------------------')\n",
        "  if(er1.all()<er2.all() and er1.all()<er3.all()):\n",
        "    print('After comparision best method is EULER')\n",
        "  elif(er2.all()<er1.all() and er2.all()<er3.all()):\n",
        "    print('After comparision best method is HEUNs')\n",
        "  else:\n",
        "    print('After comparision best method is RK4')"
      ]
    },
    {
      "cell_type": "code",
      "execution_count": 59,
      "metadata": {},
      "outputs": [
        {
          "name": "stdout",
          "output_type": "stream",
          "text": [
            "\n",
            "-------SOLUTION-------\n",
            "----------------------\n",
            "#\ttn\tyn\n",
            "----------------------\n",
            "1\t0.10\t1.0000\n",
            "----------------------\n",
            "2\t0.20\t1.0105\n",
            "----------------------\n",
            "3\t0.30\t1.0316\n",
            "----------------------\n",
            "4\t0.40\t1.0634\n",
            "----------------------\n",
            "5\t0.50\t1.1063\n",
            "----------------------\n",
            "6\t0.60\t1.1605\n",
            "----------------------\n",
            "7\t0.70\t1.2267\n",
            "----------------------\n",
            "8\t0.80\t1.3054\n",
            "----------------------\n",
            "9\t0.90\t1.3974\n",
            "----------------------\n",
            "10\t1.00\t1.5036\n",
            "----------------------\n",
            "\n",
            "-------SOLUTION-------\n",
            "----------------------\n",
            "#\ttn\tyn\n",
            "----------------------\n",
            "1\t0.10\t1.0053\n",
            "----------------------\n",
            "2\t0.20\t1.0206\n",
            "----------------------\n",
            "3\t0.30\t1.0461\n",
            "----------------------\n",
            "4\t0.40\t1.0820\n",
            "----------------------\n",
            "5\t0.50\t1.1288\n",
            "----------------------\n",
            "6\t0.60\t1.1869\n",
            "----------------------\n",
            "7\t0.70\t1.2568\n",
            "----------------------\n",
            "8\t0.80\t1.3393\n",
            "----------------------\n",
            "9\t0.90\t1.4352\n",
            "----------------------\n",
            "10\t1.00\t1.5454\n",
            "----------------------\n",
            "\n",
            "-------SOLUTION-------\n",
            "----------------------\n",
            "#\ttn\tyn\n",
            "----------------------\n",
            "1\t0.10\t1.0050\n",
            "----------------------\n",
            "2\t0.20\t1.0201\n",
            "----------------------\n",
            "3\t0.30\t1.0453\n",
            "----------------------\n",
            "4\t0.40\t1.0811\n",
            "----------------------\n",
            "5\t0.50\t1.1276\n",
            "----------------------\n",
            "6\t0.60\t1.1855\n",
            "----------------------\n",
            "7\t0.70\t1.2552\n",
            "----------------------\n",
            "8\t0.80\t1.3374\n",
            "----------------------\n",
            "9\t0.90\t1.4331\n",
            "----------------------\n",
            "10\t1.00\t1.5431\n",
            "----------------------\n",
            "\n",
            "-------------------------ERRORS-------------------------------\n",
            "--------------------------------------------------------------\n",
            "#\tStep\tEuler Error\tHeun Error\tRK4 Error\n",
            "--------------------------------------------------------------\n",
            "1\t0.00\t0.000000\t0.000000\t0.000000\n",
            "--------------------------------------------------------------\n",
            "2\t0.10\t0.005004\t0.000254\t0.000000\n",
            "--------------------------------------------------------------\n",
            "3\t0.20\t0.009493\t0.000552\t0.000057\n",
            "--------------------------------------------------------------\n",
            "4\t0.30\t0.013536\t0.000922\t0.000197\n",
            "--------------------------------------------------------------\n",
            "5\t0.40\t0.017305\t0.001287\t0.000337\n",
            "--------------------------------------------------------------\n",
            "6\t0.50\t0.020942\t0.001587\t0.000414\n",
            "--------------------------------------------------------------\n",
            "7\t0.60\t0.024559\t0.001787\t0.000392\n",
            "--------------------------------------------------------------\n",
            "8\t0.70\t0.028231\t0.001886\t0.000263\n",
            "--------------------------------------------------------------\n",
            "9\t0.80\t0.031995\t0.001915\t0.000057\n",
            "--------------------------------------------------------------\n",
            "10\t0.90\t0.035841\t0.001950\t0.000153\n",
            "--------------------------------------------------------------\n",
            "11\t1.00\t0.039706\t0.002118\t0.000244\n",
            "--------------------------------------------------------------\n",
            "After comparision best method is RK4\n"
          ]
        }
      ],
      "source": [
        "def f(t,y):\n",
        "  return np.exp(t)-y\n",
        "error_table(f,0,1,1,0.1)"
      ]
    },
    {
      "cell_type": "code",
      "execution_count": 60,
      "metadata": {},
      "outputs": [
        {
          "name": "stdout",
          "output_type": "stream",
          "text": [
            "\n",
            "-------SOLUTION-------\n",
            "----------------------\n",
            "#\ttn\tyn\n",
            "----------------------\n",
            "1\t0.25\t1.2500\n",
            "----------------------\n",
            "2\t0.50\t1.6398\n",
            "----------------------\n",
            "3\t0.75\t2.0243\n",
            "----------------------\n",
            "4\t1.00\t2.2365\n",
            "----------------------\n",
            "\n",
            "-------SOLUTION-------\n",
            "----------------------\n",
            "#\ttn\tyn\n",
            "----------------------\n",
            "1\t0.25\t1.3199\n",
            "----------------------\n",
            "2\t0.50\t1.7070\n",
            "----------------------\n",
            "3\t0.75\t2.0054\n",
            "----------------------\n",
            "4\t1.00\t2.0771\n",
            "----------------------\n",
            "\n",
            "-------SOLUTION-------\n",
            "----------------------\n",
            "#\ttn\tyn\n",
            "----------------------\n",
            "1\t0.25\t1.3292\n",
            "----------------------\n",
            "2\t0.50\t1.7305\n",
            "----------------------\n",
            "3\t0.75\t2.0415\n",
            "----------------------\n",
            "4\t1.00\t2.1181\n",
            "----------------------\n",
            "\n",
            "-------------------------ERRORS-------------------------------\n",
            "--------------------------------------------------------------\n",
            "#\tStep\tEuler Error\tHeun Error\tRK4 Error\n",
            "--------------------------------------------------------------\n",
            "1\t0.00\t0.000000\t0.000000\t0.000000\n",
            "--------------------------------------------------------------\n",
            "2\t0.25\t0.081222\t0.011320\t0.002057\n",
            "--------------------------------------------------------------\n",
            "3\t0.50\t0.090813\t0.023588\t0.000085\n",
            "--------------------------------------------------------------\n",
            "4\t0.75\t0.015758\t0.034657\t0.001530\n",
            "--------------------------------------------------------------\n",
            "5\t1.00\t0.118616\t0.040762\t0.000222\n",
            "--------------------------------------------------------------\n",
            "After comparision best method is RK4\n"
          ]
        }
      ],
      "source": [
        "def f(t,y):\n",
        "  return np.sin(3*t)+np.cos(2*t)\n",
        "error_table(f,0,1,1,0.25)\n"
      ]
    },
    {
      "cell_type": "code",
      "execution_count": 61,
      "metadata": {},
      "outputs": [
        {
          "name": "stdout",
          "output_type": "stream",
          "text": [
            "\n",
            "-------SOLUTION-------\n",
            "----------------------\n",
            "#\ttn\tyn\n",
            "----------------------\n",
            "1\t0.50\t0.5000\n",
            "----------------------\n",
            "2\t1.00\t1.0430\n",
            "----------------------\n",
            "\n",
            "-------SOLUTION-------\n",
            "----------------------\n",
            "#\ttn\tyn\n",
            "----------------------\n",
            "1\t0.50\t0.5215\n",
            "----------------------\n",
            "2\t1.00\t1.0953\n",
            "----------------------\n",
            "\n",
            "-------SOLUTION-------\n",
            "----------------------\n",
            "#\ttn\tyn\n",
            "----------------------\n",
            "1\t0.50\t0.5159\n",
            "----------------------\n",
            "2\t1.00\t1.0918\n",
            "----------------------\n",
            "\n",
            "-------------------------ERRORS-------------------------------\n",
            "--------------------------------------------------------------\n",
            "#\tStep\tEuler Error\tHeun Error\tRK4 Error\n",
            "--------------------------------------------------------------\n",
            "1\t0.00\t0.000000\t0.000000\t0.000000\n",
            "--------------------------------------------------------------\n",
            "2\t0.50\t1.015915\t0.994426\t1.000017\n",
            "--------------------------------------------------------------\n",
            "3\t1.00\t1.048840\t0.996502\t0.999976\n",
            "--------------------------------------------------------------\n",
            "After comparision best method is RK4\n"
          ]
        }
      ],
      "source": [
        "def f(t,y):\n",
        "  return np.sin(t)+np.exp(-t)\n",
        "error_table(f,0,1,0,0.5)"
      ]
    },
    {
      "cell_type": "code",
      "execution_count": null,
      "metadata": {},
      "outputs": [],
      "source": []
    }
  ],
  "metadata": {
    "colab": {
      "provenance": []
    },
    "kernelspec": {
      "display_name": "Python 3",
      "name": "python3"
    },
    "language_info": {
      "codemirror_mode": {
        "name": "ipython",
        "version": 3
      },
      "file_extension": ".py",
      "mimetype": "text/x-python",
      "name": "python",
      "nbconvert_exporter": "python",
      "pygments_lexer": "ipython3",
      "version": "3.10.5"
    }
  },
  "nbformat": 4,
  "nbformat_minor": 0
}
